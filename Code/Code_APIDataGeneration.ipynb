{
 "cells": [
  {
   "cell_type": "code",
   "execution_count": null,
   "id": "efd35573-0305-40e0-b023-e5267e3cb9e0",
   "metadata": {},
   "outputs": [],
   "source": [
    "import pandas as pd\n",
    "import plotly.express as px\n",
    "import openpyxl"
   ]
  },
  {
   "cell_type": "code",
   "execution_count": null,
   "id": "b1a0630d-3a50-4b9a-a9b0-20db361f0fa5",
   "metadata": {},
   "outputs": [],
   "source": [
    "\n",
    "ua = df['HstName'].unique()\n",
    "dfLT = pd.DataFrame({'Adresse': ua.astype(str)})"
   ]
  },
  {
   "cell_type": "code",
   "execution_count": null,
   "id": "829e4477-b395-4531-8c9f-d3dac3c9fa5a",
   "metadata": {},
   "outputs": [],
   "source": [
    "#api_key = 'secret'\n",
    "\n",
    "def geocode_address(adresse):\n",
    "    adresse2 = adresse + ' Station Hamburg'\n",
    "    url = f'https://maps.googleapis.com/maps/api/geocode/json?address={adresse2}&key={api_key}'\n",
    "    response = requests.get(url)\n",
    "    data = response.json()\n",
    "    \n",
    "    if data['status'] == 'OK':\n",
    "        latitude = data['results'][0]['geometry']['location']['lat']\n",
    "        longitude = data['results'][0]['geometry']['location']['lng']\n",
    "        return pd.Series({'Latitude': latitude, 'Longitude': longitude})\n",
    "    else:\n",
    "        return pd.Series({'Latitude': None, 'Longitude': None})\n",
    "\n",
    "# Einsetzen der Adressen\n",
    "newdfLT = pd.DataFrame(dfLT)\n",
    "\n",
    "# Breiten- und Längengrade hinzufügen\n",
    "newdfLT[['Latitude', 'Longitude']] = newdfLT['Adresse'].apply(geocode_address)\n",
    "\n",
    "# Ergebnisse anzeigen\n",
    "print(newdfLT)"
   ]
  }
 ],
 "metadata": {
  "kernelspec": {
   "display_name": "Python 3 (ipykernel)",
   "language": "python",
   "name": "python3"
  },
  "language_info": {
   "codemirror_mode": {
    "name": "ipython",
    "version": 3
   },
   "file_extension": ".py",
   "mimetype": "text/x-python",
   "name": "python",
   "nbconvert_exporter": "python",
   "pygments_lexer": "ipython3",
   "version": "3.11.2"
  }
 },
 "nbformat": 4,
 "nbformat_minor": 5
}
